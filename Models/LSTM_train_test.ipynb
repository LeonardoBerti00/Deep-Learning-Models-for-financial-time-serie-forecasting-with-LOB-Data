{
  "cells": [
    {
      "cell_type": "markdown",
      "source": [
        "### **Long Short Term Memory**"
      ],
      "metadata": {
        "id": "LZ9ae0g7ISl2"
      }
    },
    {
      "cell_type": "code",
      "execution_count": null,
      "metadata": {
        "id": "XCKCWKyQGvD_"
      },
      "outputs": [],
      "source": [
        "#Initially we download the zipped data\n",
        "\n",
        "import os \n",
        "if not os.path.isfile('data.zip'):\n",
        "    !wget https://github.com/LeonardoBerti07/Deep-Learning-Algorithms-for-financial-time-serie-modeling-/blob/main/Datasets/DB2.zip\n",
        "    !unzip -n data.zip\n",
        "    print('data downloaded.')\n",
        "else:\n",
        "    print('data already existed.')"
      ]
    },
    {
      "cell_type": "code",
      "execution_count": null,
      "metadata": {
        "colab": {
          "base_uri": "https://localhost:8080/"
        },
        "id": "yqqAFVGl8ogy",
        "outputId": "96067af7-27d7-4d1c-9de1-b3c2c9e502bc"
      },
      "outputs": [
        {
          "output_type": "stream",
          "name": "stdout",
          "text": [
            "Drive already mounted at /content/drive; to attempt to forcibly remount, call drive.mount(\"/content/drive\", force_remount=True).\n"
          ]
        }
      ],
      "source": [
        "#Load packages\n",
        "from faulthandler import dump_traceback\n",
        "import time\n",
        "import datetime\n",
        "from unicodedata import name\n",
        "import torch\n",
        "import matplotlib.pyplot as plt\n",
        "import numpy as np\n",
        "from torch.utils.data import Dataset, DataLoader\n",
        "from torchvision import datasets\n",
        "from torchvision import transforms  \n",
        "from torch import nn\n",
        "from google.colab import drive\n",
        "import random\n",
        "from sklearn.metrics import accuracy_score, classification_report\n",
        "\n",
        "drive.mount('/content/drive')\n"
      ]
    },
    {
      "cell_type": "markdown",
      "source": [
        "### **Data**\n",
        "The dataset in the folder Dataset is the LOBSTER dataset zipped and normalized. I have combined the data of the 5 stocks available for free. I used the version with 10 levels, so we have 40 columns, in fact for every level we have a quadruple wiht the ask and bid prices and with the volumes associated, for more information i reference to the thesis. \n",
        "\n",
        "I used 70% to do the training, 15% to do the validation and 15% for the testing."
      ],
      "metadata": {
        "id": "U-4cB_DIJAS5"
      }
    },
    {
      "cell_type": "code",
      "execution_count": null,
      "metadata": {
        "id": "zRk_lVmatWju"
      },
      "outputs": [],
      "source": [
        "# please change the data_path to your local path\n",
        "\n",
        "num_classes = 3\n",
        "device = torch.device('cuda' if torch.cuda.is_available() else 'cpu')\n",
        "\n",
        "data_path = \"/DB2.npy\"\n",
        "\n",
        "\n",
        "dec = np.load(data_path)\n",
        "\n",
        "train_size = int(0.70 * dec.shape[0])\n",
        "val_size = int(0.15 * dec.shape[0])\n",
        "test_size = val_size\n",
        "\n",
        "dec_train = dec[:train_size]\n",
        "dec_val = dec[train_size:val_size+train_size]\n",
        "dec_test = dec[val_size+train_size:]"
      ]
    },
    {
      "cell_type": "code",
      "execution_count": null,
      "metadata": {
        "colab": {
          "base_uri": "https://localhost:8080/",
          "height": 816
        },
        "id": "8Pbd5CqbVDMQ",
        "outputId": "3f74a2f6-cbd3-475b-e485-22d82b29f494"
      },
      "outputs": [
        {
          "output_type": "stream",
          "name": "stdout",
          "text": [
            "(1477602, 40)\n"
          ]
        },
        {
          "output_type": "display_data",
          "data": {
            "text/plain": [
              "<Figure size 432x288 with 1 Axes>"
            ],
            "image/png": "[encoded data removed]"
          },
          "metadata": {
            "needs_background": "light"
          }
        },
        {
          "output_type": "stream",
          "name": "stdout",
          "text": [
            "(316629, 40)\n"
          ]
        },
        {
          "output_type": "display_data",
          "data": {
            "text/plain": [
              "<Figure size 432x288 with 1 Axes>"
            ],
            "image/png": "[encoded data removed]"
          },
          "metadata": {
            "needs_background": "light"
          }
        },
        {
          "output_type": "stream",
          "name": "stdout",
          "text": [
            "(316629, 40)\n"
          ]
        },
        {
          "output_type": "display_data",
          "data": {
            "text/plain": [
              "<Figure size 432x288 with 1 Axes>"
            ],
            "image/png": "[encoded data removed]"
          },
          "metadata": {
            "needs_background": "light"
          }
        }
      ],
      "source": [
        "\n",
        "#Hyperparameters\n",
        "epochs = 50\n",
        "lr = 0.00005\n",
        "regularization = 0.5\n",
        "\n",
        "    #input shape \n",
        "sequence_length = 50   #each sequence is composed by 5 day\n",
        "batch_size = 64\n",
        "num_features = 40\n",
        "\n",
        "    #hidden shape\n",
        "num_layer = 1\n",
        "hidden_size = 64\n",
        "\n",
        "#Create Sequences for the LSTM\n",
        "def create_sequences(input_data, seq_len):\n",
        "    sequences = []\n",
        "    data_size = input_data.shape[0]\n",
        "    Y = []\n",
        "    print(input_data.shape)\n",
        "    alpha = 0.0007226735755120588\n",
        "    for i in range(data_size - 2*seq_len):\n",
        "        sequence = input_data[i:i+seq_len, :]\n",
        "        label_position = i + seq_len             \n",
        "        ask_minus = sequence[:, :1]\n",
        "        bid_minus = sequence[:, 2:3]\n",
        "        ask_plus = input_data[(i+seq_len):(i+2*seq_len), :1]\n",
        "        bid_plus = input_data[(i+seq_len):i+2*seq_len, 2:3]\n",
        "        m_minus = (ask_minus + bid_minus) / 2\n",
        "        m_minus = np.sum(m_minus) / seq_len\n",
        "        m_plus = (ask_plus + bid_plus) / 2\n",
        "        m_plus = np.sum(m_plus) / seq_len\n",
        "        #print((m_plus - m_minus) / m_minus)\n",
        "        if (m_plus - m_minus) / m_minus < -alpha:\n",
        "          label = 1\n",
        "        elif (m_plus - m_minus) / m_minus > alpha:\n",
        "          label = 0\n",
        "        else:\n",
        "          label = 2          \n",
        "        Y.append(label)\n",
        "        sequences.append((sequence, label))\n",
        "        \n",
        "    plt.hist(Y)\n",
        "    plt.show()\n",
        "    return sequences\n",
        "\n",
        "train_sequences = create_sequences(dec_train, sequence_length)\n",
        "test_sequences = create_sequences(dec_test, sequence_length)\n",
        "val_sequences = create_sequences(dec_val, sequence_length)"
      ]
    },
    {
      "cell_type": "code",
      "execution_count": null,
      "metadata": {
        "id": "_G8Bti2mWqbs"
      },
      "outputs": [],
      "source": [
        "#Create the Dataset\n",
        "class Dataset(Dataset):\n",
        "    def __init__(self, sequences):  \n",
        "        self.sequences = sequences\n",
        "\n",
        "    def __len__(self):    #return the len of the dataste\n",
        "        return len(self.sequences)\n",
        "\n",
        "    def __getitem__(self, idx):  #idx is the index of the sequence that we want to load\n",
        "        sequence, label = self.sequences[idx]\n",
        "\n",
        "        return dict(\n",
        "            sequence = torch.from_numpy(sequence).float(),\n",
        "            label = label\n",
        "        )"
      ]
    },
    {
      "cell_type": "code",
      "execution_count": null,
      "metadata": {
        "id": "AXjmkkbcEleF"
      },
      "outputs": [],
      "source": [
        "#Create the DataLoader\n",
        "class PriceDataModule():\n",
        "    def __init__(self, train_sequences, val_sequences, test_sequences, num_workers=1, batch_size = 8):\n",
        "        super().__init__()\n",
        "        self.train_sequences = train_sequences\n",
        "        self.test_sequences = test_sequences\n",
        "        self.val_sequences = val_sequences\n",
        "        self.batch_size = batch_size\n",
        "        self.num_workers = num_workers\n",
        "\n",
        "    def setup(self, stage=None):        \n",
        "        self.train_dataset = Dataset(self.train_sequences)\n",
        "        self.test_dataset = Dataset(self.test_sequences)\n",
        "        self.val_dataset = Dataset(self.val_sequences)\n",
        "\n",
        "    def train_dataloader(self):\n",
        "        return DataLoader(\n",
        "            self.train_dataset,\n",
        "            batch_size = self.batch_size,\n",
        "            shuffle = True,\n",
        "            num_workers=self.num_workers\n",
        "        )\n",
        "\n",
        "    def val_dataloader(self):\n",
        "        return DataLoader(\n",
        "            self.val_dataset,\n",
        "            batch_size = self.batch_size,\n",
        "            shuffle = False,\n",
        "            num_workers=self.num_workers\n",
        "        )\n",
        "\n",
        "    def test_dataloader(self):\n",
        "        return DataLoader(\n",
        "            self.test_dataset,\n",
        "            batch_size = self.batch_size,\n",
        "            shuffle = False,\n",
        "            num_workers=self.num_workers\n",
        "        )\n",
        "\n",
        "data_module = PriceDataModule(train_sequences, val_sequences, test_sequences, 2, batch_size)\n",
        "data_module.setup()\n",
        "train_dataloader = data_module.train_dataloader()\n",
        "test_dataloader = data_module.test_dataloader()\n",
        "val_dataloader = data_module.val_dataloader()"
      ]
    },
    {
      "cell_type": "markdown",
      "source": [
        "### **Model Architecture**\n",
        "The architecture has a single layer and a hidden size of 64. The reason for the simplicity of the architecture is that with a greater amount of layers and a greater hidden size the model tends to go in overfitting. As for the hyperparameters, the dropout is equal to 0.5 (to avoid overfitting as much as possible), the learning rate at 0.00005, the batch size is 64. The model has a total of 27,587 parameters."
      ],
      "metadata": {
        "id": "9-fSzRyhKptR"
      }
    },
    {
      "cell_type": "code",
      "execution_count": null,
      "metadata": {
        "id": "04vdrGfaEmdv",
        "colab": {
          "base_uri": "https://localhost:8080/"
        },
        "outputId": "a4f24802-d97c-4d99-8207-7ad274ad7de8"
      },
      "outputs": [
        {
          "output_type": "stream",
          "name": "stderr",
          "text": [
            "/usr/local/lib/python3.7/dist-packages/torch/nn/modules/rnn.py:65: UserWarning: dropout option adds dropout after all but last recurrent layer, so non-zero dropout expects num_layers greater than 1, but got dropout=0.5 and num_layers=1\n",
            "  \"num_layers={}\".format(dropout, num_layers))\n"
          ]
        }
      ],
      "source": [
        "#Create the LSTM model\n",
        "class myLSTM(nn.Module):\n",
        "    def __init__(self, n_features, num_classes, dropout, n_hidden, n_layers):\n",
        "        super().__init__()\n",
        "        self.lstm = nn.LSTM(\n",
        "        input_size = n_features,\n",
        "        hidden_size = n_hidden,\n",
        "        batch_first = True,\n",
        "        num_layers = n_layers, # Stack LSTMs\n",
        "        dropout = dropout       \n",
        "    )\n",
        "        self.classifier = nn.Linear(n_hidden, num_classes) #after we have analyze the sequence, now we have to perform the classification, we utilize a classic linear layer\n",
        "        \n",
        "    def forward(self, x):\n",
        "        self.lstm.flatten_parameters()  \n",
        "        #x shape is (batch_size, seq_len, n_features)\n",
        "\n",
        "        output, (hidden, _) = self.lstm(x)\n",
        "        out = hidden[-1]  #We want the output from the last layer of the last time step to go into the final regressor linear layer, we don't use output \n",
        "                          #because in the output there are the H_t for each time step from the last layer, so the dim is (batch_size, L, Hidden_size)\n",
        "                          #instead in hidden there are hidden state for every layer but only for the last time step, so the dim is (num_layer, Hidden_size) \n",
        "                          #so if batch_size=1, the last array of output = hidden[-1]\n",
        "      \n",
        "        return self.classifier(out)\n",
        "\n",
        "model = myLSTM(num_features, num_classes, regularization, hidden_size, num_layer).to(device)\n",
        "model.float()\n",
        "\n",
        "loss_fn = nn.CrossEntropyLoss()\n",
        "optimizer = torch.optim.AdamW(model.parameters(), lr) \n",
        "\n"
      ]
    },
    {
      "cell_type": "markdown",
      "source": [
        "### **Model Training**"
      ],
      "metadata": {
        "id": "K5LqLqdnK2Kx"
      }
    },
    {
      "cell_type": "code",
      "execution_count": null,
      "metadata": {
        "id": "Hy_fnkqyErwc"
      },
      "outputs": [],
      "source": [
        "#Training the model\n",
        "def trainingLoop(train_dataloader, model, loss_fn, optimizer):\n",
        "    cont = 0\n",
        "    train_loss = 0\n",
        "    for batch in train_dataloader:         #scorriamo i vari batch del data set, in batch c'è l'index\n",
        "        sequences = batch[\"sequence\"].to(device)\n",
        "        labels = batch[\"label\"].to(device)\n",
        "        #forward pass\n",
        "        outputs = model(sequences)            #we do the prediction\n",
        "        loss = loss_fn(outputs, labels)     #compute the error\n",
        "        train_loss += loss\n",
        "        #backpropagation\n",
        "        optimizer.zero_grad()\n",
        "        loss.backward()\n",
        "        optimizer.step()\n",
        "\n",
        "        cont+=1\n",
        "\n",
        "    train_loss = train_loss / cont   #we compute the average train loss\n",
        "    print()\n",
        "    print(train_loss) "
      ]
    },
    {
      "cell_type": "markdown",
      "source": [
        "### **Model Testing**"
      ],
      "metadata": {
        "id": "JvRcXX8eK_Wx"
      }
    },
    {
      "cell_type": "code",
      "source": [
        "#Testing \n",
        "def testLoop(test_dataloader, model, loss_fn, test_size):\n",
        "    true = [0, 0, 0]\n",
        "    denom = [0, 0, 0, 0, 0, 0]\n",
        "    num_batches = len(test_dataloader)\n",
        "    test_loss = 0\n",
        "    correct = 0\n",
        "\n",
        "    with torch.no_grad():      \n",
        "        for batch in test_dataloader:         #we scroll through the various batches of the data set\n",
        "            sequences = batch[\"sequence\"].to(device)\n",
        "            labels = batch[\"label\"].to(device)\n",
        "   \n",
        "            outputs = model(sequences)            #we do the prediction\n",
        "            predicted = outputs.argmax(1)\n",
        "            \n",
        "            test_loss += loss_fn(outputs, labels).item()       \n",
        "            correct += (outputs.argmax(1) == labels).type(torch.float).sum().item()     #we count the correct ones\n",
        "            \n",
        "            for i in range(labels.size(dim=0)):   #compute the data to calculate precision and recall\n",
        "              if (labels[i] == predicted[i] == 0):\n",
        "                true[0] += 1\n",
        "                denom[0] += 1\n",
        "                denom[1] += 1\n",
        "              elif (labels[i] == predicted[i] == 1):\n",
        "                true[1] += 1\n",
        "                denom[2] += 1\n",
        "                denom[3] += 1\n",
        "              elif (labels[i] == predicted[i] == 2):\n",
        "                true[2] += 1\n",
        "                denom[4] += 1\n",
        "                denom[5] += 1\n",
        "              elif (labels[i] == 0 and predicted[i] == 1):\n",
        "                denom[1] += 1\n",
        "                denom[2] += 1\n",
        "              elif (labels[i] == 0 and predicted[i] == 2):\n",
        "                denom[1] += 1\n",
        "                denom[4] += 1\n",
        "              elif (labels[i] == 1 and predicted[i] == 0):\n",
        "                denom[3] += 1\n",
        "                denom[0] += 1\n",
        "              elif (labels[i] == 1 and predicted[i] == 2):\n",
        "                denom[3] += 1\n",
        "                denom[4] += 1\n",
        "              elif (labels[i] == 2 and predicted[i] == 0):\n",
        "                denom[5] += 1\n",
        "                denom[0] += 1\n",
        "              elif (labels[i] == 2 and predicted[i] == 1):\n",
        "                denom[5] += 1\n",
        "                denom[2] += 1\n",
        "\n",
        "        test_loss = test_loss / num_batches        #average loss \n",
        "        correct = correct / test_size\n",
        "        if (denom[1] != 0):\n",
        "          recallUp = true[0] / denom[1]\n",
        "        else:\n",
        "          recallUp = 0\n",
        "\n",
        "        if (denom[3] != 0):\n",
        "          recallDown = true[1] / denom[3]\n",
        "        else:\n",
        "          recallDown = 0  \n",
        "\n",
        "        if (denom[5] != 0):\n",
        "          recallNo = true[2] / denom[5]\n",
        "        else:\n",
        "          recallNo = 0\n",
        "\n",
        "        if (denom[0] != 0):\n",
        "          precisionUp = true[0] / denom[0]\n",
        "        else:\n",
        "          precisionUp = 0\n",
        "\n",
        "        if (denom[2] != 0):\n",
        "          precisionDown = true[1] / denom[2]\n",
        "        else:\n",
        "          precisionDown = 0\n",
        "\n",
        "        if (denom[4] != 0):\n",
        "          precisionNo = true[2] / denom[4]\n",
        "        else:\n",
        "          precisionNo = 0\n",
        "\n",
        "        print(f\"Accuracy: {correct * 100}, Average loss: {test_loss}\")\n",
        "        print(f\"Precision Up: {precisionUp * 100}, Recall Up: {recallUp* 100}\")\n",
        "        print(f\"Precision Down: {precisionDown* 100}, Recall Down: {recallDown* 100}\")\n",
        "        print(f\"Precision No: {precisionNo* 100}, Recall No: {recallNo* 100}\")\n",
        "    return test_loss\n"
      ],
      "metadata": {
        "id": "6zblxhjOK-Yy"
      },
      "execution_count": null,
      "outputs": []
    },
    {
      "cell_type": "code",
      "execution_count": null,
      "metadata": {
        "id": "Qv8WFlRzWjTg",
        "colab": {
          "base_uri": "https://localhost:8080/"
        },
        "outputId": "77863d46-8ae4-4a36-e783-a9f95f3890a2"
      },
      "outputs": [
        {
          "output_type": "stream",
          "name": "stdout",
          "text": [
            "------- List Hyper Parameters -------\n",
            "epochs   ->   50\n",
            "learningRate   ->   5e-05\n",
            "dropout   ->   0.5\n",
            "training range   ->   1477602\n",
            "number of layer   ->    1\n",
            "sequence length    ->     50\n",
            "hidden size    ->    64\n",
            "------------Start of Epoch 0/49------------\n"
          ]
        }
      ],
      "source": [
        "print(\"------- List Hyper Parameters -------\")\n",
        "print(\"epochs   ->   \" + str(epochs))\n",
        "print(\"learningRate   ->   \" + str(lr))\n",
        "print(\"dropout   ->   \" + str(regularization))\n",
        "print(\"training range   ->   \" + str(train_size))\n",
        "print(\"number of layer   ->    \" + str(num_layer))\n",
        "print(\"sequence length    ->     \" + str(sequence_length))\n",
        "print(\"hidden size    ->    \" + str(hidden_size))\n",
        "\n",
        "\n",
        "best_test_loss = 99999\n",
        "best_val_loss = 99999\n",
        "for e in range(epochs):       \n",
        "    print(\"------------Start of Epoch {}/{}------------\".format(e, epochs-1))\n",
        "    #training\n",
        "    trainingLoop(train_dataloader, model, loss_fn, optimizer)\n",
        "\n",
        "    #validation\n",
        "    val_loss = testLoop(val_dataloader, model, loss_fn, val_size)\n",
        "    if (val_loss < best_test_loss):   #we save the best model\n",
        "      torch.save(model, 'best_model_LSTM')\n",
        "      best_test_loss = val_loss\n",
        "      best_test_epoch = e\n",
        "      print('model saved')      \n",
        "    print(\"------------End of Epoch {}/{}------------\".format(e, epochs-1))\n",
        "\n",
        "\n"
      ]
    },
    {
      "cell_type": "code",
      "execution_count": null,
      "metadata": {
        "id": "wf-ZryxgUj2Y"
      },
      "outputs": [],
      "source": [
        "model = torch.load('/best_model_LSTM')\n",
        "\n",
        "#final test\n",
        "testLoop(test_dataloader, model, loss_fn, test_size)\n"
      ]
    }
  ],
  "metadata": {
    "colab": {
      "collapsed_sections": [],
      "machine_shape": "hm",
      "provenance": []
    },
    "gpuClass": "standard",
    "kernelspec": {
      "display_name": "Python 3",
      "name": "python3"
    },
    "language_info": {
      "name": "python"
    }
  },
  "nbformat": 4,
  "nbformat_minor": 0
}
