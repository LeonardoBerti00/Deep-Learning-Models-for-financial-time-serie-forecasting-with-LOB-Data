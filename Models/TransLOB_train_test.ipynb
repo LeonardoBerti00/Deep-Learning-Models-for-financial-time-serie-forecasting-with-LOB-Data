{
  "cells": [
    {
      "cell_type": "markdown",
      "source": [
        "### **TransLOB** \n",
        "This is the implementation of the model TransLOB proposed in the paper *Transformers for limit order books by james wallbridge*"
      ],
      "metadata": {
        "id": "DWSeo4XItT27"
      }
    },
    {
      "cell_type": "code",
      "execution_count": 46,
      "metadata": {
        "colab": {
          "base_uri": "https://localhost:8080/"
        },
        "id": "UUo7jxtezAoE",
        "outputId": "e0da011a-2eed-479e-d40d-1094294bd9f5"
      },
      "outputs": [
        {
          "output_type": "stream",
          "name": "stdout",
          "text": [
            "Drive already mounted at /content/drive; to attempt to forcibly remount, call drive.mount(\"/content/drive\", force_remount=True).\n"
          ]
        }
      ],
      "source": [
        "# load packages\n",
        "\n",
        "import numpy as np\n",
        "import matplotlib.pyplot as plt\n",
        "from datetime import datetime\n",
        "from sklearn.metrics import accuracy_score, classification_report, confusion_matrix\n",
        "from google.colab import drive\n",
        "import torch\n",
        "from tqdm import tqdm\n",
        "from torch.utils import data\n",
        "import torch.nn as nn\n",
        "import torch.optim as optim\n",
        "from keras import layers\n",
        "from keras.layers import Conv1D, BatchNormalization\n",
        "import tensorflow as tf\n",
        "\n",
        "device = torch.device(\"cuda:0\" if torch.cuda.is_available() else \"cpu\")\n",
        "\n",
        "drive.mount('/content/drive')"
      ]
    },
    {
      "cell_type": "markdown",
      "source": [
        "### **Data**\n",
        "The dataset in the folder Dataset is the LOBSTER dataset zipped and normalized. I have combined the data of the 5 stocks available for free. I used the version with 10 levels, so we have 40 columns, in fact for every level we have a quadruple wiht the ask and bid prices and with the volumes associated, for more information i reference to the thesis.\n",
        "\n",
        "I used 70% to do the training, 15% to do the validation and 15% for the testing."
      ],
      "metadata": {
        "id": "p2-jdRkKvSTP"
      }
    },
    {
      "cell_type": "code",
      "source": [
        "#Initially we download the zipped data\n",
        "\n",
        "import os \n",
        "if not os.path.isfile('data.zip'):\n",
        "    !wget https://github.com/LeonardoBerti07/Deep-Learning-Algorithms-for-financial-time-serie-modeling-/blob/main/Dataset/data.zip\n",
        "    print('data downloaded.')\n",
        "else:\n",
        "    print('data already existed.')"
      ],
      "metadata": {
        "colab": {
          "base_uri": "https://localhost:8080/"
        },
        "id": "RqEXgOsTvomx",
        "outputId": "8bbc9a8b-663a-4e4e-d783-80c9ba4653fa"
      },
      "execution_count": 27,
      "outputs": [
        {
          "output_type": "stream",
          "name": "stdout",
          "text": [
            "--2022-11-19 17:17:01--  https://github.com/LeonardoBerti07/Deep-Learning-Algorithms-for-financial-time-serie-modeling-/blob/main/Dataset/data.zip\n",
            "Resolving github.com (github.com)... 20.27.177.113\n",
            "Connecting to github.com (github.com)|20.27.177.113|:443... connected.\n",
            "HTTP request sent, awaiting response... 301 Moved Permanently\n",
            "Location: https://github.com/LeonardoBerti07/Deep-Learning-Algorithms-for-financial-time-serie-forecasting-/blob/main/Dataset/data.zip [following]\n",
            "--2022-11-19 17:17:02--  https://github.com/LeonardoBerti07/Deep-Learning-Algorithms-for-financial-time-serie-forecasting-/blob/main/Dataset/data.zip\n",
            "Reusing existing connection to github.com:443.\n",
            "HTTP request sent, awaiting response... 200 OK\n",
            "Length: unspecified [text/html]\n",
            "Saving to: ‘data.zip’\n",
            "\n",
            "data.zip                [  <=>               ] 140.85K   294KB/s    in 0.5s    \n",
            "\n",
            "2022-11-19 17:17:03 (294 KB/s) - ‘data.zip’ saved [144227]\n",
            "\n",
            "data downloaded.\n"
          ]
        }
      ]
    },
    {
      "cell_type": "code",
      "execution_count": 28,
      "metadata": {
        "colab": {
          "base_uri": "https://localhost:8080/"
        },
        "id": "OcSo3GDzz-qa",
        "outputId": "ddcac1f8-08a2-456d-d91e-b474fc6bb5ed"
      },
      "outputs": [
        {
          "output_type": "stream",
          "name": "stdout",
          "text": [
            "(922925, 40)\n"
          ]
        }
      ],
      "source": [
        "# please change the data_path to your local path and unzip the file\n",
        "\n",
        "data_path =  \"/content/drive/MyDrive/Data2/DB4_norm.npy\"\n",
        "dec = np.load(data_path)\n",
        "\n",
        "print(dec.shape)\n",
        "train_size = int(0.70 * dec.shape[0])\n",
        "val_size = int(0.15 * dec.shape[0])\n",
        "\n",
        "dec_train = dec[:train_size]\n",
        "dec_val = dec[train_size:val_size+train_size]\n",
        "dec_test = dec[val_size+train_size:]"
      ]
    },
    {
      "cell_type": "code",
      "execution_count": 29,
      "metadata": {
        "id": "c-q1pXGi0ACD"
      },
      "outputs": [],
      "source": [
        "def labeling(X, T):\n",
        "\n",
        "  [N, D] = X.shape\n",
        "  print(N)\n",
        "  Y = np.zeros((X.shape[0] - 2*T + 1))\n",
        "  alpha = 0.00072\n",
        "  media = []\n",
        "  for i in range(0, X.shape[0]- 2*T + 1):\n",
        "    ask_minus = X[i:i+T, :1]\n",
        "    bid_minus = X[i:i+T, 2:3]\n",
        "    ask_plus = X[i+T:i+2*T, :1]\n",
        "    bid_plus = X[i+T:i+2*T, 2:3]\n",
        "    m_minus = (ask_minus + bid_minus) / 2\n",
        "    m_minus = np.sum(m_minus) / T\n",
        "    m_plus = (ask_plus + bid_plus) / 2\n",
        "    m_plus = np.sum(m_plus) / T\n",
        "    media.append((m_plus - m_minus) / m_minus)\n",
        "    if (m_plus - m_minus) / m_minus < -alpha:\n",
        "      label = 1\n",
        "    elif (m_plus - m_minus) / m_minus > alpha:\n",
        "      label = 0\n",
        "    else:\n",
        "      label = 2\n",
        "    Y[i] = label\n",
        "  \n",
        "  plt.hist(Y)\n",
        "  plt.show()\n",
        "\n",
        "  return Y"
      ]
    },
    {
      "cell_type": "code",
      "execution_count": 30,
      "metadata": {
        "colab": {
          "base_uri": "https://localhost:8080/",
          "height": 816
        },
        "id": "8x7PAu1LySOZ",
        "outputId": "d7055e30-359e-47f3-de7c-49efa0f093e7"
      },
      "outputs": [
        {
          "output_type": "stream",
          "name": "stdout",
          "text": [
            "138438\n"
          ]
        },
        {
          "output_type": "display_data",
          "data": {
            "text/plain": [
              "<Figure size 432x288 with 1 Axes>"
            ],
            "image/png": "[encoded data removed]"
          },
          "metadata": {
            "needs_background": "light"
          }
        },
        {
          "output_type": "stream",
          "name": "stdout",
          "text": [
            "138440\n"
          ]
        },
        {
          "output_type": "display_data",
          "data": {
            "text/plain": [
              "<Figure size 432x288 with 1 Axes>"
            ],
            "image/png": "[encoded data removed]"
          },
          "metadata": {
            "needs_background": "light"
          }
        },
        {
          "output_type": "stream",
          "name": "stdout",
          "text": [
            "646047\n"
          ]
        },
        {
          "output_type": "display_data",
          "data": {
            "text/plain": [
              "<Figure size 432x288 with 1 Axes>"
            ],
            "image/png": "[encoded data removed]"
          },
          "metadata": {
            "needs_background": "light"
          }
        }
      ],
      "source": [
        "#Create the dataset\n",
        "\n",
        "class Dataset(data.Dataset):\n",
        "    \"\"\"Characterizes a dataset for PyTorch\"\"\"\n",
        "    def __init__(self, x, y, num_classes, T):\n",
        "        \"\"\"Initialization\"\"\" \n",
        "        self.num_classes = num_classes\n",
        "        self.T = T\n",
        "        self.x = x   \n",
        "        self.y = y\n",
        "       \n",
        "        self.length = x.shape[0] - 2*T + 1\n",
        "\n",
        "        x = torch.from_numpy(x)\n",
        "        self.x = torch.unsqueeze(x, 1)\n",
        "        self.y = torch.from_numpy(y)\n",
        "\n",
        "    def __len__(self):\n",
        "        \"\"\"Denotes the total number of samples\"\"\"\n",
        "        return self.length\n",
        "\n",
        "    def __getitem__(self, i):\n",
        "        input = self.x[i:i+self.T, :]\n",
        "        input = input.permute(1, 0, 2)\n",
        "        #print(input.shape)\n",
        "        return input, self.y[i]\n",
        "\n",
        "batch_size = 32\n",
        "epochs = 50\n",
        "T = 50\n",
        "lr = 0.0001\n",
        "\n",
        "y_val = labeling(dec_val, T)\n",
        "y_test = labeling(dec_test, T)\n",
        "y_train = labeling(dec_train, T)\n",
        "\n",
        "dataset_val = Dataset(dec_val, y_val, num_classes=3, T=50)\n",
        "dataset_test = Dataset(dec_test, y_test, num_classes=3, T=50)\n",
        "dataset_train = Dataset(dec_train, y_train, num_classes=3, T=50)\n",
        "\n",
        "train_loader = torch.utils.data.DataLoader(dataset=dataset_train, batch_size=batch_size, shuffle=True)\n",
        "val_loader = torch.utils.data.DataLoader(dataset=dataset_val, batch_size=batch_size, shuffle=False)\n",
        "test_loader = torch.utils.data.DataLoader(dataset=dataset_test, batch_size=batch_size, shuffle=False)\n",
        "\n"
      ]
    },
    {
      "cell_type": "markdown",
      "source": [
        "### **Model Architecture**\n",
        "The model architecture is specified in the original paper."
      ],
      "metadata": {
        "id": "_0wAgGUv8Yhi"
      }
    },
    {
      "cell_type": "code",
      "execution_count": 31,
      "metadata": {
        "id": "TSm6uDvdbM6q"
      },
      "outputs": [],
      "source": [
        "def lob_dilated(x):\n",
        "  \"\"\"\n",
        "  TransLOB dilated 1-D convolution module\n",
        "  \"\"\"\n",
        "\n",
        "  x = layers.Conv1D(filters=14,kernel_size=2,strides=1,activation='relu',padding='causal')(x)  \n",
        "  x = layers.Conv1D(14,kernel_size=2,dilation_rate=2,activation='relu',padding='causal')(x)\n",
        "  x = layers.Conv1D(14,kernel_size=2,dilation_rate=4,activation='relu',padding='causal')(x)\n",
        "  x = layers.Conv1D(14,kernel_size=2,dilation_rate=8,activation='relu',padding='causal')(x)\n",
        "  y = layers.Conv1D(14,kernel_size=2,dilation_rate=16,activation='relu',padding='causal')(x)\n",
        "  y = layers.BatchNormalization()(y)\n",
        "\n",
        "  return y"
      ]
    },
    {
      "cell_type": "code",
      "execution_count": 32,
      "metadata": {
        "id": "Der6JirTbVfA"
      },
      "outputs": [],
      "source": [
        "def positional_encoding(x):\n",
        "  steps, d_model = x.get_shape().as_list()[-2:] \n",
        "  ps = np.zeros([steps,1],dtype=K.floatx()) \n",
        "  for tx in range(steps):\n",
        "    ps[tx,:] = [(2/(steps-1))*tx - 1] \n",
        "\n",
        "  ps_expand = K.expand_dims(K.constant(ps),axis=0) \n",
        "  ps_tiled = K.tile(ps_expand,[K.shape(x)[0],1,1]) \n",
        "  ps_tiled = tf.reshape(ps_tiled, (x.shape[0], x.shape[1], x.shape[2], ps_tiled.shape[2]))\n",
        "  x = K.concatenate([x,ps_tiled],axis=-1)\n",
        "  return x"
      ]
    },
    {
      "cell_type": "code",
      "execution_count": 50,
      "metadata": {
        "id": "SvYo0So0TRoR"
      },
      "outputs": [],
      "source": [
        "class transformer(nn.Module):\n",
        "    def __init__(self, y_len):\n",
        "        super().__init__()\n",
        "        self.y_len = y_len\n",
        "\n",
        "        self.transformer = nn.Transformer(d_model=750, nhead=3, \n",
        "                                            num_encoder_layers=2, num_decoder_layers=2, \n",
        "                                            dim_feedforward=3000, dropout=0.0, norm_first=True,\n",
        "                                            batch_first=True, device=device)\n",
        "        self.norm = nn.BatchNorm1d(750)\n",
        "        self.norm3 = nn.BatchNorm1d(700)\n",
        "        self.norm2 = nn.BatchNorm1d(512)\n",
        "        \n",
        "        self.dropout = nn.Dropout(0.1)\n",
        "\n",
        "        self.fc1 = nn.Linear(750, 512)\n",
        "        self.fc2 = nn.Linear(512, 512)\n",
        "        self.fc3 = nn.Linear(512, 3)\n",
        "\n",
        "        self.activation = nn.LeakyReLU(negative_slope=0.01)\n",
        "\n",
        "    def forward(self, x):\n",
        "        np_tensor = x.cpu().numpy()\n",
        "        tf_tensor = tf.convert_to_tensor(np_tensor)\n",
        "\n",
        "        x = lob_dilated(tf_tensor)          \n",
        "\n",
        "        x = positional_encoding(x)\n",
        "\n",
        "        np_tensor = x.cpu().numpy()\n",
        "        x = torch.tensor(np_tensor).to(device)\n",
        "\n",
        "        x = self.norm(self.transformer(x))\n",
        "\n",
        "        x = torch.reshape(x, (x.shape[0], x.shape[1]*x.shape[2]*x.shape[3]))\n",
        "\n",
        "        x = self.dropout(self.norm2(self.activation(self.fc1(x))))\n",
        "        x = self.dropout(self.norm2(self.activation(self.fc2(x))))\n",
        "        x = self.fc3(x)\n",
        "        forecast_y = torch.softmax(x, dim=1)\n",
        "        \n",
        "        return forecast_y"
      ]
    },
    {
      "cell_type": "markdown",
      "source": [
        "### **Model Training**"
      ],
      "metadata": {
        "id": "8CaGko8X8lmC"
      }
    },
    {
      "cell_type": "code",
      "execution_count": 51,
      "metadata": {
        "id": "s_u5esKfTT-S"
      },
      "outputs": [],
      "source": [
        "model = transformer(y_len = dataset_train.num_classes)\n",
        "model.to(device)\n",
        "criterion = nn.CrossEntropyLoss()\n",
        "optimizer = torch.optim.Adam(model.parameters(), lr)\n",
        "\n",
        "def batch_gd(model, criterion, optimizer, train_loader, test_loader, epochs):\n",
        "    \n",
        "    train_losses = np.zeros(epochs)\n",
        "    test_losses = np.zeros(epochs)\n",
        "    best_test_loss = np.inf\n",
        "    best_test_epoch = 0\n",
        "\n",
        "    for it in tqdm(range(epochs)):\n",
        "        \n",
        "        model.train()\n",
        "        t0 = datetime.now()\n",
        "        train_loss = []\n",
        "        for inputs, targets in train_loader:\n",
        "            # move data to GPU\n",
        "            inputs, targets = inputs.to(device, dtype=torch.float), targets.to(device, dtype=torch.int64)\n",
        "            # print(\"inputs.shape:\", inputs.shape)\n",
        "            # zero the parameter gradients\n",
        "            optimizer.zero_grad()\n",
        "            # Forward pass\n",
        "            # print(\"about to get model output\")\n",
        "            outputs = model(inputs)\n",
        "            # print(\"done getting model output\")\n",
        "            # print(\"outputs.shape:\", outputs.shape, \"targets.shape:\", targets.shape)\n",
        "            loss = criterion(outputs, targets)\n",
        "            # Backward and optimize\n",
        "            # print(\"about to optimize\")\n",
        "            loss.backward()\n",
        "            optimizer.step()\n",
        "            train_loss.append(loss.item())\n",
        "        # Get train loss and test loss\n",
        "        train_loss = np.mean(train_loss) # a little misleading\n",
        "    \n",
        "        model.eval()\n",
        "        test_loss = []\n",
        "        for inputs, targets in test_loader:\n",
        "            inputs, targets = inputs.to(device, dtype=torch.float), targets.to(device, dtype=torch.int64)      \n",
        "            outputs = model(inputs)\n",
        "            loss = criterion(outputs, targets)\n",
        "            test_loss.append(loss.item())\n",
        "        test_loss = np.mean(test_loss)\n",
        "\n",
        "        # Save losses\n",
        "        train_losses[it] = train_loss\n",
        "        test_losses[it] = test_loss\n",
        "        \n",
        "        if test_loss < best_test_loss:\n",
        "            torch.save(model, '/content/drive/MyDrive/Output/best_model_transformer')\n",
        "            best_test_loss = test_loss\n",
        "            best_test_epoch = it\n",
        "            print('model saved')\n",
        "\n",
        "        dt = datetime.now() - t0\n",
        "        print(f'Epoch {it+1}/{epochs}, Train Loss: {train_loss:.4f}, \\\n",
        "          Validation Loss: {test_loss:.4f}, Duration: {dt}, Best Val Epoch: {best_test_epoch}')\n",
        "\n",
        "    return train_losses, test_losses"
      ]
    },
    {
      "cell_type": "code",
      "execution_count": null,
      "metadata": {
        "id": "EwRTC160vqW5"
      },
      "outputs": [],
      "source": [
        "train_losses, val_losses = batch_gd(model, criterion, optimizer, \n",
        "                                    train_loader, val_loader, epochs)"
      ]
    },
    {
      "cell_type": "markdown",
      "source": [
        "### **Model Testing**"
      ],
      "metadata": {
        "id": "ja-2FWDj8pt6"
      }
    },
    {
      "cell_type": "code",
      "execution_count": null,
      "metadata": {
        "id": "TFg5d6CzTgWS"
      },
      "outputs": [],
      "source": [
        "model = torch.load('/content/drive/MyDrive/Output/best_model_transformer')\n",
        "\n",
        "n_correct = 0.\n",
        "n_total = 0.\n",
        "all_targets = []\n",
        "all_predictions = []\n",
        "\n",
        "for inputs, targets in test_loader:\n",
        "    # Move to GPU\n",
        "    inputs, targets = inputs.to(device, dtype=torch.float), targets.to(device, dtype=torch.int64)\n",
        "\n",
        "    # Forward pass\n",
        "    outputs = model(inputs)\n",
        "    \n",
        "    # Get prediction\n",
        "    # torch.max returns both max and argmax\n",
        "    _, predictions = torch.max(outputs, 1)\n",
        "\n",
        "    # update counts\n",
        "    n_correct += (predictions == targets).sum().item()\n",
        "    n_total += targets.shape[0]\n",
        "\n",
        "    all_targets.append(targets.cpu().numpy())\n",
        "    all_predictions.append(predictions.cpu().numpy())\n",
        "\n",
        "test_acc = n_correct / n_total\n",
        "print(f\"Test acc: {test_acc:.4f}\")\n",
        "\n",
        "all_targets = np.concatenate(all_targets)    \n",
        "all_predictions = np.concatenate(all_predictions)   \n",
        "print('accuracy_score:', accuracy_score(all_targets, all_predictions))\n",
        "print(classification_report(all_targets, all_predictions, digits=4)) \n",
        "print(confusion_matrix(all_targets, all_prediction, normalize=True))"
      ]
    }
  ],
  "metadata": {
    "colab": {
      "provenance": []
    },
    "gpuClass": "premium",
    "kernelspec": {
      "display_name": "Python 3",
      "name": "python3"
    },
    "language_info": {
      "name": "python"
    }
  },
  "nbformat": 4,
  "nbformat_minor": 0
}