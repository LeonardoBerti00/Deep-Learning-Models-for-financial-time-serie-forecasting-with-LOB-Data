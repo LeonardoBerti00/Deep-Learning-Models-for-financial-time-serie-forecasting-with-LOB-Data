{
  "cells": [
    {
      "cell_type": "markdown",
      "source": [
        "### **Deep Convolutional Neural Network**\n",
        "\n"
      ],
      "metadata": {
        "id": "S8ywNFBrj5wl"
      }
    },
    {
      "cell_type": "code",
      "source": [
        "#Initially we download the zipped data\n",
        "\n",
        "import os \n",
        "if not os.path.isfile('data.zip'):\n",
        "    !wget https://github.com/LeonardoBerti07/Deep-Learning-Algorithms-for-financial-time-serie-modeling-/blob/main/Datasets/DB2.zip\n",
        "    !unzip -n data.zip\n",
        "    print('data downloaded.')\n",
        "else:\n",
        "    print('data already existed.')"
      ],
      "metadata": {
        "id": "vWNys9JikBGI"
      },
      "execution_count": null,
      "outputs": []
    },
    {
      "cell_type": "code",
      "execution_count": 1,
      "metadata": {
        "colab": {
          "base_uri": "https://localhost:8080/"
        },
        "id": "SVJUk8Tw-nRH",
        "outputId": "bec286d5-b54a-4012-99c9-2561d08d0f57"
      },
      "outputs": [
        {
          "output_type": "stream",
          "name": "stdout",
          "text": [
            "Mounted at /content/drive\n"
          ]
        }
      ],
      "source": [
        "# load packages\n",
        "import pandas as pd\n",
        "import pickle\n",
        "import numpy as np\n",
        "import matplotlib.pyplot as plt\n",
        "from datetime import datetime\n",
        "from tqdm import tqdm \n",
        "from sklearn.metrics import accuracy_score, classification_report\n",
        "from google.colab import drive\n",
        "import torch\n",
        "import torch.nn.functional as F\n",
        "from torch.utils import data\n",
        "import torch.nn as nn\n",
        "import torch.optim as optim\n",
        "\n",
        "device = torch.device(\"cuda:0\" if torch.cuda.is_available() else \"cpu\")\n",
        "\n",
        "drive.mount('/content/drive')"
      ]
    },
    {
      "cell_type": "markdown",
      "source": [
        "### **Data**\n",
        "The dataset in the folder Dataset is the LOBSTER dataset zipped and normalized. I have combined the data of the 5 stocks available for free. I used the version with 10 levels, so we have 40 columns, in fact for every level we have a quadruple wiht the ask and bid prices and with the volumes associated, for more information i reference to the thesis. \n",
        "\n",
        "I used 70% to do the training, 15% to do the validation and 15% for the testing."
      ],
      "metadata": {
        "id": "owDFOiYck5-Y"
      }
    },
    {
      "cell_type": "code",
      "execution_count": 2,
      "metadata": {
        "colab": {
          "base_uri": "https://localhost:8080/"
        },
        "id": "ZBPfIw0eicai",
        "outputId": "19307549-b414-4a78-e7de-777093e5c317"
      },
      "outputs": [
        {
          "output_type": "stream",
          "name": "stdout",
          "text": [
            "(2045191, 40)\n"
          ]
        }
      ],
      "source": [
        "# please change the data_path to your local path\n",
        "\n",
        "data_path = \"/DB2.npy\"\n",
        "#data_path =  \"/content/drive/MyDrive/Data/DB1.npy\"\n",
        "\n",
        "dec = np.load(data_path)\n",
        "\n",
        "train_size = int(0.70 * dec.shape[0])\n",
        "val_size = int(0.15 * dec.shape[0])\n",
        "\n",
        "print(dec.shape)\n",
        "dec_train = dec[:train_size]\n",
        "dec_val = dec[train_size:val_size+train_size]\n",
        "dec_test = dec[val_size+train_size:]"
      ]
    },
    {
      "cell_type": "code",
      "execution_count": 3,
      "metadata": {
        "id": "loWTynZ6-0nC"
      },
      "outputs": [],
      "source": [
        "\n",
        "#Label the data with the method explained in the thesis\n",
        "def labeling(X, T):\n",
        "  [N, D] = X.shape\n",
        "  print(N)\n",
        "  x = np.zeros((N - T + 1, T, D))\n",
        "  for i in range(T, N + 1-T):\n",
        "      x[i - T] = X[i - T:i, :]\n",
        "\n",
        "  Y = np.zeros((x.shape[0] - T, 1))\n",
        "  alpha = 0.00072\n",
        "  media = []\n",
        "  for i in range(0, x.shape[0]-T):\n",
        "    ask_minus = x[i, :, :1]\n",
        "    bid_minus = x[i, :, 2:3]\n",
        "    ask_plus = x[i+T, :, :1]\n",
        "    bid_plus = x[i+T, :, 2:3]\n",
        "    m_minus = (ask_minus + bid_minus) / 2\n",
        "    m_minus = np.sum(m_minus) / T\n",
        "    m_plus = (ask_plus + bid_plus) / 2\n",
        "    m_plus = np.sum(m_plus) / T\n",
        "    media.append((m_plus - m_minus) / m_minus)\n",
        "    if (m_plus - m_minus) / m_minus < -alpha:\n",
        "      label = 1\n",
        "    elif (m_plus - m_minus) / m_minus > alpha:\n",
        "      label = 0\n",
        "    else:\n",
        "      label = 2\n",
        "    Y[i, 0] = label\n",
        "  \n",
        "  plt.hist(Y)\n",
        "  plt.show()\n",
        "  x = x[:x.shape[0]-T, :, :]\n",
        "  Y = np.reshape(Y, (Y.shape[0]))\n",
        "  return x, Y\n"
      ]
    },
    {
      "cell_type": "code",
      "execution_count": 4,
      "metadata": {
        "id": "8x7PAu1LySOZ"
      },
      "outputs": [],
      "source": [
        "class Dataset(data.Dataset):\n",
        "    \"\"\"Characterizes a dataset for PyTorch\"\"\"\n",
        "    def __init__(self, data, num_classes, T):\n",
        "        \"\"\"Initialization\"\"\" \n",
        "        self.num_classes = num_classes\n",
        "        self.T = T\n",
        "            \n",
        "        x, y = labeling(data, self.T)\n",
        "        self.length = len(x)\n",
        "\n",
        "        x = torch.from_numpy(x)\n",
        "        self.x = torch.unsqueeze(x, 1)\n",
        "        self.y = torch.from_numpy(y)\n",
        "\n",
        "    def __len__(self):\n",
        "        \"\"\"Denotes the total number of samples\"\"\"\n",
        "        return self.length\n",
        "\n",
        "    def __getitem__(self, index):\n",
        "        \"\"\"Generates samples of data\"\"\"\n",
        "        return self.x[index], self.y[index]\n",
        "\n"
      ]
    },
    {
      "cell_type": "code",
      "execution_count": null,
      "metadata": {
        "id": "S5r5u-0fP_nM"
      },
      "outputs": [],
      "source": [
        "#Hyperparameters\n",
        "\n",
        "batch_size = 64\n",
        "epochs = 50\n",
        "T = 50     \n",
        "lr=0.00008\n",
        "\n",
        "dataset_train = Dataset(dec_train, 3, T)\n",
        "dataset_val = Dataset(dec_val, 3, T)\n",
        "dataset_test = Dataset(dec_test, 3, T)\n",
        "\n",
        "train_loader = torch.utils.data.DataLoader(dataset=dataset_train, batch_size=batch_size, shuffle=True)\n",
        "val_loader = torch.utils.data.DataLoader(dataset=dataset_val, batch_size=batch_size, shuffle=False)\n",
        "test_loader = torch.utils.data.DataLoader(dataset=dataset_test, batch_size=batch_size, shuffle=False)\n"
      ]
    },
    {
      "cell_type": "markdown",
      "source": [
        "### **Model Architecture**\n",
        "the structure is made up of 15 convolutional layer and 3 fully connected layer. The activation function used is LeakyReLU. As for the hyperparameters, a learning rate equal to 0.00008, 50 epochs and a batch size of 64 was used. The model in total has 168,132,646 parameters."
      ],
      "metadata": {
        "id": "c0xCPcR6neps"
      }
    },
    {
      "cell_type": "code",
      "execution_count": null,
      "metadata": {
        "id": "_CEOaOyW_Fm2"
      },
      "outputs": [],
      "source": [
        "class CNN(nn.Module):\n",
        "    def __init__(self, y_len):\n",
        "        super().__init__()\n",
        "        self.y_len = y_len\n",
        "        \n",
        "        # convolution blocks\n",
        "        self.conv1 = nn.Sequential(\n",
        "            nn.Conv2d(in_channels=1, out_channels=32, kernel_size=(1,2), stride=(1,2)),\n",
        "            nn.LeakyReLU(negative_slope=0.01),\n",
        "            nn.BatchNorm2d(32),\n",
        "            nn.Conv2d(in_channels=32, out_channels=32, kernel_size=(4,1)),\n",
        "            nn.LeakyReLU(negative_slope=0.01),\n",
        "            nn.BatchNorm2d(32),\n",
        "            nn.Conv2d(in_channels=32, out_channels=32, kernel_size=(4,1)),\n",
        "            nn.LeakyReLU(negative_slope=0.01),\n",
        "            nn.BatchNorm2d(32),\n",
        "        )\n",
        "        self.conv2 = nn.Sequential(\n",
        "            nn.Conv2d(in_channels=32, out_channels=32, kernel_size=(1,2), stride=(1,2)),\n",
        "            nn.LeakyReLU(negative_slope=0.01),\n",
        "            nn.BatchNorm2d(32),\n",
        "            nn.Conv2d(in_channels=32, out_channels=32, kernel_size=(4,1)),\n",
        "            nn.LeakyReLU(negative_slope=0.01),\n",
        "            nn.BatchNorm2d(32),\n",
        "            nn.Conv2d(in_channels=32, out_channels=32, kernel_size=(4,1)),\n",
        "            nn.LeakyReLU(negative_slope=0.01),\n",
        "            nn.BatchNorm2d(32),\n",
        "        )\n",
        "        self.conv3 = nn.Sequential(\n",
        "            nn.Conv2d(in_channels=32, out_channels=32, kernel_size=(1,10)),\n",
        "            nn.LeakyReLU(negative_slope=0.01),\n",
        "            nn.BatchNorm2d(32),\n",
        "            nn.Conv2d(in_channels=32, out_channels=32, kernel_size=(4,1)),\n",
        "            nn.LeakyReLU(negative_slope=0.01),\n",
        "            nn.BatchNorm2d(32),\n",
        "            nn.Conv2d(in_channels=32, out_channels=32, kernel_size=(4,1)),\n",
        "            nn.LeakyReLU(negative_slope=0.01),\n",
        "            nn.BatchNorm2d(32),\n",
        "        )\n",
        "        self.inp1 = nn.Sequential(\n",
        "            nn.Conv2d(32, 64, (3,1), padding=\"same\"),\n",
        "            nn.LeakyReLU(negative_slope=0.01),\n",
        "            nn.Conv2d(64, 64, (1,1), padding=\"same\"),\n",
        "            nn.LeakyReLU(negative_slope=0.01),\n",
        "            #nn.MaxPool2d(2, 2),\n",
        "\n",
        "            nn.Conv2d(64, 128, (3,1), padding=\"same\"),\n",
        "            nn.LeakyReLU(negative_slope=0.01),\n",
        "            nn.Conv2d(128, 128, (1,1), padding=\"same\"),\n",
        "            nn.LeakyReLU(negative_slope=0.01),\n",
        "\n",
        "            nn.Conv2d(128, 256, (3,1), padding=\"same\"),\n",
        "            nn.LeakyReLU(negative_slope=0.01),\n",
        "            nn.Conv2d(256, 256, (1,1), padding=\"same\"),\n",
        "            nn.LeakyReLU(negative_slope=0.01),\n",
        "            nn.Conv2d(256, 256, 1),\n",
        "            nn.LeakyReLU(negative_slope=0.01),\n",
        "            \n",
        "        )\n",
        "        \n",
        "        #fully connected layers\n",
        "        self.linear1 = nn.Linear(8192, 4096)\n",
        "        self.linear2 = nn.Linear(4096, 4096)\n",
        "        self.linear3 = nn.Linear(4096, 3)\n",
        "\n",
        "        #activation\n",
        "        self.activation = nn.LeakyReLU(negative_slope=0.01)\n",
        "      \n",
        "    def forward(self, x):\n",
        "      #print(x.shape)\n",
        "      x = self.conv1(x)\n",
        "      #print(x.shape)\n",
        "      x = self.conv2(x)\n",
        "      #print(x.shape)\n",
        "      x = self.conv3(x)\n",
        "      #print(x.shape)\n",
        "      x = self.inp1(x)\n",
        "      \n",
        "      x = torch.flatten(x, 1)\n",
        "      x = self.activation(self.linear1(x))\n",
        "      #print(x.shape)\n",
        "      x = self.activation(self.linear2(x))\n",
        "      #print(x.shape)\n",
        "      out = self.linear3(x)\n",
        "      forecast_y = torch.softmax(out, dim=1)\n",
        "      \n",
        "      return forecast_y"
      ]
    },
    {
      "cell_type": "markdown",
      "source": [
        "### **Model Training**"
      ],
      "metadata": {
        "id": "QPaZwcu1oPtc"
      }
    },
    {
      "cell_type": "code",
      "execution_count": null,
      "metadata": {
        "id": "s_u5esKfTT-S"
      },
      "outputs": [],
      "source": [
        "model = CNN(3)\n",
        "model.to(device)\n",
        "criterion = nn.CrossEntropyLoss()\n",
        "optimizer = torch.optim.AdamW(model.parameters(), lr)\n",
        "\n",
        "def batch_gd(model, criterion, optimizer, train_loader, test_loader, epochs):\n",
        "    \n",
        "    train_losses = np.zeros(epochs)\n",
        "    test_losses = np.zeros(epochs)\n",
        "    best_test_loss = np.inf\n",
        "    best_test_epoch = 0\n",
        "\n",
        "    for it in tqdm(range(epochs)):\n",
        "        \n",
        "        model.train()\n",
        "        t0 = datetime.now()\n",
        "        train_loss = []\n",
        "        for inputs, targets in train_loader:\n",
        "            # move data to GPU\n",
        "            inputs, targets = inputs.to(device, dtype=torch.float), targets.to(device, dtype=torch.int64)\n",
        "\n",
        "            # zero the parameter gradients\n",
        "            optimizer.zero_grad()\n",
        "\n",
        "            # Forward pass\n",
        "            outputs = model(inputs)\n",
        "            loss = criterion(outputs, targets)\n",
        "\n",
        "            # Backward and optimize\n",
        "            loss.backward()\n",
        "            optimizer.step()\n",
        "            train_loss.append(loss.item())\n",
        "\n",
        "        # Get train loss and test loss\n",
        "        train_loss = np.mean(train_loss) \n",
        "    \n",
        "        model.eval()\n",
        "        test_loss = []\n",
        "        n_correct = 0.\n",
        "        n_total = 0.\n",
        "        for inputs, targets in test_loader:\n",
        "            inputs, targets = inputs.to(device, dtype=torch.float), targets.to(device, dtype=torch.int64)      \n",
        "            outputs = model(inputs)\n",
        "            _, predictions = torch.max(outputs, 1)\n",
        "            loss = criterion(outputs, targets)\n",
        "            test_loss.append(loss.item())\n",
        "            n_correct += (predictions == targets).sum().item()\n",
        "            n_total += targets.shape[0]\n",
        "\n",
        "        test_acc = n_correct / n_total\n",
        "        print(f\"Test acc: {test_acc:.4f}\")\n",
        "        test_loss = np.mean(test_loss)\n",
        "\n",
        "        # Save losses\n",
        "        train_losses[it] = train_loss\n",
        "        test_losses[it] = test_loss\n",
        "        \n",
        "        #We save the best model\n",
        "        if test_loss < best_test_loss:\n",
        "            torch.save(model, '/content/drive/MyDrive/Output/best_model_CNN')\n",
        "            best_test_loss = test_loss\n",
        "            best_test_epoch = it\n",
        "            print('model saved')\n",
        "\n",
        "        dt = datetime.now() - t0\n",
        "        print(f'Epoch {it+1}/{epochs}, Train Loss: {train_loss:.4f}, \\\n",
        "          Validation Loss: {test_loss:.4f}, Duration: {dt}, Best Val Epoch: {best_test_epoch}')\n",
        "    torch.save(model, '/content/drive/MyDrive/Output/ultimate_model_CNN')\n",
        "    print('model saved')\n",
        "    return train_losses, test_losses"
      ]
    },
    {
      "cell_type": "code",
      "execution_count": null,
      "metadata": {
        "colab": {
          "background_save": true
        },
        "id": "x9vq-ZAzTb6K"
      },
      "outputs": [],
      "source": [
        "print(\"------- List Hyper Parameters -------\")\n",
        "print(\"epochs   ->   \" + str(epochs))\n",
        "print(\"learningRate   ->   \" + str(lr))\n",
        "#print(\"dropout   ->   \" + str(regularization))\n",
        "print(\"training range   ->   \" + str(train_size))\n",
        "print(\"horizon    ->     \" + str(T))\n",
        "print(\"Optimizer   ->    AdamW\")\n",
        "\n",
        "train_losses, val_losses = batch_gd(model, criterion, optimizer, train_loader, val_loader, 50)\n",
        "\n",
        "\n",
        "plt.figure(figsize=(15,6))\n",
        "plt.plot(train_losses, label='train loss')\n",
        "plt.plot(val_losses, label='validation loss')\n",
        "plt.legend()"
      ]
    },
    {
      "cell_type": "markdown",
      "metadata": {
        "id": "DpbF0l-rJWC3"
      },
      "source": [
        "### **Model Testing**"
      ]
    },
    {
      "cell_type": "code",
      "execution_count": null,
      "metadata": {
        "id": "TFg5d6CzTgWS"
      },
      "outputs": [],
      "source": [
        "model = torch.load('/content/drive/MyDrive/Output/best_model_CNN')\n",
        "\n",
        "n_correct = 0.\n",
        "n_total = 0.\n",
        "for inputs, targets in test_loader:\n",
        "    # Move to GPU\n",
        "    inputs, targets = inputs.to(device, dtype=torch.float), targets.to(device, dtype=torch.int64)\n",
        "\n",
        "    # Forward pass\n",
        "    outputs = model(inputs)\n",
        "    \n",
        "    # Get prediction\n",
        "    # torch.max returns both max and argmax\n",
        "    _, predictions = torch.max(outputs, 1)\n",
        "\n",
        "    # update counts\n",
        "    n_correct += (predictions == targets).sum().item()\n",
        "    n_total += targets.shape[0]\n",
        "\n",
        "test_acc = n_correct / n_total\n",
        "print(f\"Test acc: {test_acc:.4f}\")\n",
        "\n",
        "all_targets = []\n",
        "all_predictions = []\n",
        "\n",
        "for inputs, targets in test_loader:\n",
        "    # Move to GPU\n",
        "    inputs, targets = inputs.to(device, dtype=torch.float), targets.to(device, dtype=torch.int64)\n",
        "\n",
        "    # Forward pass\n",
        "    outputs = model(inputs)\n",
        "    \n",
        "    # Get prediction\n",
        "    _, predictions = torch.max(outputs, 1)\n",
        "\n",
        "    all_targets.append(targets.cpu().numpy())\n",
        "    all_predictions.append(predictions.cpu().numpy())\n",
        "\n",
        "all_targets = np.concatenate(all_targets)    \n",
        "all_predictions = np.concatenate(all_predictions)    "
      ]
    },
    {
      "cell_type": "code",
      "execution_count": null,
      "metadata": {
        "id": "0oOu5lwf6zw0"
      },
      "outputs": [],
      "source": [
        "print('accuracy_score:', accuracy_score(all_targets, all_predictions))\n",
        "print(classification_report(all_targets, all_predictions, digits=4))"
      ]
    }
  ],
  "metadata": {
    "colab": {
      "collapsed_sections": [],
      "machine_shape": "hm",
      "provenance": []
    },
    "gpuClass": "premium",
    "kernelspec": {
      "display_name": "Python 3",
      "name": "python3"
    },
    "language_info": {
      "name": "python"
    }
  },
  "nbformat": 4,
  "nbformat_minor": 0
}